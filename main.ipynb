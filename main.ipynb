{
 "cells": [
  {
   "cell_type": "code",
   "execution_count": 1,
   "id": "2eed4f27",
   "metadata": {},
   "outputs": [
    {
     "name": "stdout",
     "output_type": "stream",
     "text": [
      "    mpg  cylinders  displacement  horsepower  weight  acceleration  \\\n",
      "0  18.0        8.0         307.0       130.0  3504.0          12.0   \n",
      "1  15.0        8.0         350.0       165.0  3693.0          11.5   \n",
      "2  18.0        8.0         318.0       150.0  3436.0          11.0   \n",
      "3  16.0        8.0         304.0       150.0  3433.0          12.0   \n",
      "4  17.0        8.0         302.0       140.0  3449.0          10.5   \n",
      "\n",
      "   model_year  origin                   car_name  \n",
      "0        70.0     1.0  chevrolet chevelle malibu  \n",
      "1        70.0     1.0          buick skylark 320  \n",
      "2        70.0     1.0         plymouth satellite  \n",
      "3        70.0     1.0              amc rebel sst  \n",
      "4        70.0     1.0                ford torino  \n"
     ]
    }
   ],
   "source": [
    "import numpy as np\n",
    "import pandas as pd\n",
    "\n",
    "#file_path = 'C:/Users/MOHAMED ANAS/Downloads/auto+mpg/auto-mpg.data-original'\n",
    "file_path = 'C:/Users/MOHAMED ANAS/Downloads/auto+mpg/auto-mpg.data'\n",
    "\n",
    "columnnames = ['mpg', 'cylinders', 'displacement', 'horsepower', 'weight', 'acceleration', \n",
    "    'model_year', 'origin', 'car_name']\n",
    "\n",
    "df = pd.read_csv(file_path, delim_whitespace=True, names=columnnames)\n",
    "\n",
    "print(df.head())"
   ]
  },
  {
   "cell_type": "code",
   "execution_count": 2,
   "id": "e6d87d12",
   "metadata": {},
   "outputs": [
    {
     "name": "stdout",
     "output_type": "stream",
     "text": [
      "406\n"
     ]
    }
   ],
   "source": [
    "dataRows=len(df.index)\n",
    "print(dataRows)"
   ]
  },
  {
   "cell_type": "code",
   "execution_count": 3,
   "id": "8975ffca",
   "metadata": {},
   "outputs": [
    {
     "name": "stdout",
     "output_type": "stream",
     "text": [
      "9\n"
     ]
    }
   ],
   "source": [
    "dataCols=len(df.columns)\n",
    "print(dataCols)"
   ]
  },
  {
   "cell_type": "code",
   "execution_count": 4,
   "id": "c24272df",
   "metadata": {},
   "outputs": [],
   "source": [
    "rawData=df"
   ]
  },
  {
   "cell_type": "code",
   "execution_count": 5,
   "id": "96e2bcfd",
   "metadata": {},
   "outputs": [
    {
     "data": {
      "text/html": [
       "<div>\n",
       "<style scoped>\n",
       "    .dataframe tbody tr th:only-of-type {\n",
       "        vertical-align: middle;\n",
       "    }\n",
       "\n",
       "    .dataframe tbody tr th {\n",
       "        vertical-align: top;\n",
       "    }\n",
       "\n",
       "    .dataframe thead th {\n",
       "        text-align: right;\n",
       "    }\n",
       "</style>\n",
       "<table border=\"1\" class=\"dataframe\">\n",
       "  <thead>\n",
       "    <tr style=\"text-align: right;\">\n",
       "      <th></th>\n",
       "      <th>mpg</th>\n",
       "      <th>cylinders</th>\n",
       "      <th>displacement</th>\n",
       "      <th>horsepower</th>\n",
       "      <th>weight</th>\n",
       "      <th>acceleration</th>\n",
       "      <th>model_year</th>\n",
       "      <th>origin</th>\n",
       "      <th>car_name</th>\n",
       "    </tr>\n",
       "  </thead>\n",
       "  <tbody>\n",
       "    <tr>\n",
       "      <th>396</th>\n",
       "      <td>26.0</td>\n",
       "      <td>4.0</td>\n",
       "      <td>156.0</td>\n",
       "      <td>92.0</td>\n",
       "      <td>2585.0</td>\n",
       "      <td>14.5</td>\n",
       "      <td>82.0</td>\n",
       "      <td>1.0</td>\n",
       "      <td>chrysler lebaron medallion</td>\n",
       "    </tr>\n",
       "    <tr>\n",
       "      <th>397</th>\n",
       "      <td>22.0</td>\n",
       "      <td>6.0</td>\n",
       "      <td>232.0</td>\n",
       "      <td>112.0</td>\n",
       "      <td>2835.0</td>\n",
       "      <td>14.7</td>\n",
       "      <td>82.0</td>\n",
       "      <td>1.0</td>\n",
       "      <td>ford granada l</td>\n",
       "    </tr>\n",
       "    <tr>\n",
       "      <th>398</th>\n",
       "      <td>32.0</td>\n",
       "      <td>4.0</td>\n",
       "      <td>144.0</td>\n",
       "      <td>96.0</td>\n",
       "      <td>2665.0</td>\n",
       "      <td>13.9</td>\n",
       "      <td>82.0</td>\n",
       "      <td>3.0</td>\n",
       "      <td>toyota celica gt</td>\n",
       "    </tr>\n",
       "    <tr>\n",
       "      <th>399</th>\n",
       "      <td>36.0</td>\n",
       "      <td>4.0</td>\n",
       "      <td>135.0</td>\n",
       "      <td>84.0</td>\n",
       "      <td>2370.0</td>\n",
       "      <td>13.0</td>\n",
       "      <td>82.0</td>\n",
       "      <td>1.0</td>\n",
       "      <td>dodge charger 2.2</td>\n",
       "    </tr>\n",
       "    <tr>\n",
       "      <th>400</th>\n",
       "      <td>27.0</td>\n",
       "      <td>4.0</td>\n",
       "      <td>151.0</td>\n",
       "      <td>90.0</td>\n",
       "      <td>2950.0</td>\n",
       "      <td>17.3</td>\n",
       "      <td>82.0</td>\n",
       "      <td>1.0</td>\n",
       "      <td>chevrolet camaro</td>\n",
       "    </tr>\n",
       "    <tr>\n",
       "      <th>401</th>\n",
       "      <td>27.0</td>\n",
       "      <td>4.0</td>\n",
       "      <td>140.0</td>\n",
       "      <td>86.0</td>\n",
       "      <td>2790.0</td>\n",
       "      <td>15.6</td>\n",
       "      <td>82.0</td>\n",
       "      <td>1.0</td>\n",
       "      <td>ford mustang gl</td>\n",
       "    </tr>\n",
       "    <tr>\n",
       "      <th>402</th>\n",
       "      <td>44.0</td>\n",
       "      <td>4.0</td>\n",
       "      <td>97.0</td>\n",
       "      <td>52.0</td>\n",
       "      <td>2130.0</td>\n",
       "      <td>24.6</td>\n",
       "      <td>82.0</td>\n",
       "      <td>2.0</td>\n",
       "      <td>vw pickup</td>\n",
       "    </tr>\n",
       "    <tr>\n",
       "      <th>403</th>\n",
       "      <td>32.0</td>\n",
       "      <td>4.0</td>\n",
       "      <td>135.0</td>\n",
       "      <td>84.0</td>\n",
       "      <td>2295.0</td>\n",
       "      <td>11.6</td>\n",
       "      <td>82.0</td>\n",
       "      <td>1.0</td>\n",
       "      <td>dodge rampage</td>\n",
       "    </tr>\n",
       "    <tr>\n",
       "      <th>404</th>\n",
       "      <td>28.0</td>\n",
       "      <td>4.0</td>\n",
       "      <td>120.0</td>\n",
       "      <td>79.0</td>\n",
       "      <td>2625.0</td>\n",
       "      <td>18.6</td>\n",
       "      <td>82.0</td>\n",
       "      <td>1.0</td>\n",
       "      <td>ford ranger</td>\n",
       "    </tr>\n",
       "    <tr>\n",
       "      <th>405</th>\n",
       "      <td>31.0</td>\n",
       "      <td>4.0</td>\n",
       "      <td>119.0</td>\n",
       "      <td>82.0</td>\n",
       "      <td>2720.0</td>\n",
       "      <td>19.4</td>\n",
       "      <td>82.0</td>\n",
       "      <td>1.0</td>\n",
       "      <td>chevy s-10</td>\n",
       "    </tr>\n",
       "  </tbody>\n",
       "</table>\n",
       "</div>"
      ],
      "text/plain": [
       "      mpg  cylinders  displacement  horsepower  weight  acceleration  \\\n",
       "396  26.0        4.0         156.0        92.0  2585.0          14.5   \n",
       "397  22.0        6.0         232.0       112.0  2835.0          14.7   \n",
       "398  32.0        4.0         144.0        96.0  2665.0          13.9   \n",
       "399  36.0        4.0         135.0        84.0  2370.0          13.0   \n",
       "400  27.0        4.0         151.0        90.0  2950.0          17.3   \n",
       "401  27.0        4.0         140.0        86.0  2790.0          15.6   \n",
       "402  44.0        4.0          97.0        52.0  2130.0          24.6   \n",
       "403  32.0        4.0         135.0        84.0  2295.0          11.6   \n",
       "404  28.0        4.0         120.0        79.0  2625.0          18.6   \n",
       "405  31.0        4.0         119.0        82.0  2720.0          19.4   \n",
       "\n",
       "     model_year  origin                    car_name  \n",
       "396        82.0     1.0  chrysler lebaron medallion  \n",
       "397        82.0     1.0              ford granada l  \n",
       "398        82.0     3.0            toyota celica gt  \n",
       "399        82.0     1.0           dodge charger 2.2  \n",
       "400        82.0     1.0            chevrolet camaro  \n",
       "401        82.0     1.0             ford mustang gl  \n",
       "402        82.0     2.0                   vw pickup  \n",
       "403        82.0     1.0               dodge rampage  \n",
       "404        82.0     1.0                 ford ranger  \n",
       "405        82.0     1.0                  chevy s-10  "
      ]
     },
     "execution_count": 5,
     "metadata": {},
     "output_type": "execute_result"
    }
   ],
   "source": [
    "rawData.tail(10)"
   ]
  },
  {
   "cell_type": "code",
   "execution_count": 6,
   "id": "5a07b986",
   "metadata": {},
   "outputs": [
    {
     "name": "stdout",
     "output_type": "stream",
     "text": [
      "Missing values in each column:\n",
      "mpg             8\n",
      "cylinders       0\n",
      "displacement    0\n",
      "horsepower      6\n",
      "weight          0\n",
      "acceleration    0\n",
      "model_year      0\n",
      "origin          0\n",
      "car_name        0\n",
      "dtype: int64\n"
     ]
    }
   ],
   "source": [
    "# Checking for missing values \n",
    "missing_val = df.isnull().sum()\n",
    "print(\"Missing values in each column:\")\n",
    "print(missing_val)"
   ]
  },
  {
   "cell_type": "code",
   "execution_count": 7,
   "id": "4fe46762",
   "metadata": {},
   "outputs": [],
   "source": [
    "preprocessedData=df"
   ]
  },
  {
   "cell_type": "code",
   "execution_count": 8,
   "id": "9b82babf",
   "metadata": {},
   "outputs": [
    {
     "name": "stdout",
     "output_type": "stream",
     "text": [
      "    mpg  cylinders  displacement  horsepower  weight  acceleration  \\\n",
      "0  18.0        8.0         307.0       130.0  3504.0          12.0   \n",
      "1  15.0        8.0         350.0       165.0  3693.0          11.5   \n",
      "2  18.0        8.0         318.0       150.0  3436.0          11.0   \n",
      "3  16.0        8.0         304.0       150.0  3433.0          12.0   \n",
      "4  17.0        8.0         302.0       140.0  3449.0          10.5   \n",
      "\n",
      "   model_year  origin                   car_name  \n",
      "0        70.0     1.0  chevrolet chevelle malibu  \n",
      "1        70.0     1.0          buick skylark 320  \n",
      "2        70.0     1.0         plymouth satellite  \n",
      "3        70.0     1.0              amc rebel sst  \n",
      "4        70.0     1.0                ford torino  \n"
     ]
    }
   ],
   "source": [
    "# Filling na values\n",
    "preprocessedData['horsepower'].fillna(preprocessedData['horsepower'].mean(), inplace=True)\n",
    "preprocessedData['mpg'].fillna(preprocessedData['mpg'].mean(), inplace=True)\n",
    "print(preprocessedData.head())"
   ]
  },
  {
   "cell_type": "code",
   "execution_count": 9,
   "id": "2d3600aa",
   "metadata": {},
   "outputs": [
    {
     "name": "stdout",
     "output_type": "stream",
     "text": [
      "The average miles per gallon (MPG) is  23.51457286432162\n"
     ]
    }
   ],
   "source": [
    "# 1. Average MPG\n",
    "averageMPG = preprocessedData['mpg'].mean()\n",
    "print(\"The average miles per gallon (MPG) is \",averageMPG)"
   ]
  },
  {
   "cell_type": "code",
   "execution_count": 10,
   "id": "60ff703a",
   "metadata": {},
   "outputs": [
    {
     "name": "stdout",
     "output_type": "stream",
     "text": [
      "The most common vehicle type is  ford pinto\n"
     ]
    }
   ],
   "source": [
    "# 2. Most Common Vehicle Type\n",
    "commonVehicleType = preprocessedData['car_name'].mode()[0]\n",
    "print(\"The most common vehicle type is \",commonVehicleType)"
   ]
  },
  {
   "cell_type": "code",
   "execution_count": 11,
   "id": "dd504790",
   "metadata": {},
   "outputs": [
    {
     "name": "stdout",
     "output_type": "stream",
     "text": [
      "The most frequently occurring cylinder count is  4.0\n"
     ]
    }
   ],
   "source": [
    "# 3. Most Frequently Occurring Cylinder Count\n",
    "commonCylinderCount = preprocessedData['cylinders'].mode()[0]\n",
    "print(\"The most frequently occurring cylinder count is \",commonCylinderCount)"
   ]
  },
  {
   "cell_type": "code",
   "execution_count": 12,
   "id": "533222cb",
   "metadata": {},
   "outputs": [],
   "source": [
    "import math\n",
    "# 4. Std. deviation function \n",
    "def standardDeviation(data):\n",
    "    mean = sum(data) / len(data)    \n",
    "    variance = sum((x - mean) ** 2 for x in data) / len(data)\n",
    "    # Return the standard deviation (square root of variance)\n",
    "    return math.sqrt(variance)"
   ]
  },
  {
   "cell_type": "code",
   "execution_count": 13,
   "id": "2144b847",
   "metadata": {},
   "outputs": [],
   "source": [
    "# 5. Correlation coefficient function\n",
    "def correlationCoefficient(x, y):\n",
    "    if len(x) != len(y):\n",
    "        print(\"The two input vectors must have the same length.\")\n",
    "    # Calculate means of x and y\n",
    "    mean_x = sum(x) / len(x)\n",
    "    mean_y = sum(y) / len(y)\n",
    "    # Calculate the covariance numerator\n",
    "    covariance = sum((xi - mean_x) * (yi - mean_y) for xi, yi in zip(x, y))\n",
    "    # Return the correlation coefficient\n",
    "    return covariance / (len(x) * standardDeviation(x) * standardDeviation(y))"
   ]
  },
  {
   "cell_type": "code",
   "execution_count": 14,
   "id": "5d3851db",
   "metadata": {},
   "outputs": [
    {
     "name": "stdout",
     "output_type": "stream",
     "text": [
      "[[1.0, -0.758058929533203, -0.8233271954182655], [-0.758058929533203, 1.0, 0.8626166884534622], [-0.8233271954182655, 0.8626166884534622, 1.0]]\n"
     ]
    }
   ],
   "source": [
    "mpg = preprocessedData['mpg']\n",
    "horsepower = preprocessedData['horsepower']\n",
    "weight = preprocessedData['weight']\n",
    "# Correlation matrix\n",
    "attributeCorrelations = [\n",
    "    [correlationCoefficient(mpg, mpg), correlationCoefficient(mpg, horsepower), correlationCoefficient(mpg, weight)],\n",
    "    [correlationCoefficient(horsepower, mpg), correlationCoefficient(horsepower, horsepower), correlationCoefficient(horsepower, weight)],\n",
    "    [correlationCoefficient(weight, mpg), correlationCoefficient(weight, horsepower), correlationCoefficient(weight, weight)]\n",
    "]\n",
    "print(attributeCorrelations)"
   ]
  },
  {
   "cell_type": "code",
   "execution_count": 15,
   "id": "078d65a5",
   "metadata": {},
   "outputs": [],
   "source": [
    "#In this matrix:\n",
    "#The diagonal values are all 1 because each attribute is perfectly correlated with itself.\n",
    "#The other values represent the Pearson correlation between the pairs of attributes.\n",
    "#Analysis:\n",
    "#MPG vs. Horsepower: The correlation value of -0.778426 suggests a strong negative correlation between MPG and horsepower. As horsepower increases, MPG decreases.\n",
    "#MPG vs. Weight: The correlation value of -0.832244 suggests a strong negative correlation between MPG and weight. Heavier cars generally have lower fuel efficiency (MPG).\n",
    "#Horsepower vs. Weight: The correlation value of 0.864538 indicates a strong positive correlation. More powerful cars tend to be heavier.\n",
    "#Conclusion:\n",
    "#MPG is inversely related to both horsepower and weight.\n",
    "#Horsepower and weight have a positive relationship, meaning more powerful cars are typically heavier."
   ]
  },
  {
   "cell_type": "code",
   "execution_count": 16,
   "id": "c22de5c1",
   "metadata": {},
   "outputs": [
    {
     "name": "stdout",
     "output_type": "stream",
     "text": [
      "The correlation between Displacement and MPG is  -0.7912679547932495\n"
     ]
    }
   ],
   "source": [
    "correlationDispMPG = correlationCoefficient(preprocessedData['displacement'], mpg)\n",
    "print(\"The correlation between Displacement and MPG is \",correlationDispMPG)"
   ]
  },
  {
   "cell_type": "code",
   "execution_count": 17,
   "id": "df8164ed",
   "metadata": {},
   "outputs": [
    {
     "name": "stdout",
     "output_type": "stream",
     "text": [
      "{'horsepower': -0.758058929533203, 'weight': -0.8233271954182655, 'displacement': -0.7912679547932495, 'acceleration': 0.4093381866887994, 'cylinders': -0.762697990242112}\n"
     ]
    }
   ],
   "source": [
    "a = ['horsepower', 'weight', 'displacement', 'acceleration', 'cylinders']\n",
    "d={}\n",
    "for i in a:\n",
    "    correlation_values = correlationCoefficient(mpg, preprocessedData[i])\n",
    "    #print(i,correlation_values)\n",
    "    d.update({i:correlation_values})\n",
    "print(d)"
   ]
  },
  {
   "cell_type": "code",
   "execution_count": 18,
   "id": "76958d6a",
   "metadata": {
    "scrolled": true
   },
   "outputs": [
    {
     "name": "stdout",
     "output_type": "stream",
     "text": [
      "     vehicle_age  model_year\n",
      "0         1955.0        70.0\n",
      "1         1955.0        70.0\n",
      "2         1955.0        70.0\n",
      "3         1955.0        70.0\n",
      "4         1955.0        70.0\n",
      "..           ...         ...\n",
      "401       1943.0        82.0\n",
      "402       1943.0        82.0\n",
      "403       1943.0        82.0\n",
      "404       1943.0        82.0\n",
      "405       1943.0        82.0\n",
      "\n",
      "[406 rows x 2 columns]\n"
     ]
    }
   ],
   "source": [
    "#Feature engineering\n",
    "#1. vehicle age\n",
    "from datetime import datetime \n",
    "current_year = datetime.today().year\n",
    "preprocessedData['vehicle_age'] = current_year - (preprocessedData['model_year'])\n",
    "print(df.loc[:, ['vehicle_age', 'model_year']])"
   ]
  },
  {
   "cell_type": "code",
   "execution_count": 19,
   "id": "92e01480",
   "metadata": {},
   "outputs": [
    {
     "name": "stdout",
     "output_type": "stream",
     "text": [
      "        mpg  horsepower    weight  displacement  acceleration  vehicle_age\n",
      "0 -0.712624    0.647535  0.619343      1.069556     -1.255531     1.579514\n",
      "1 -1.100301    1.557086  0.842482      1.479382     -1.433889     1.579514\n",
      "2 -0.712624    1.167279  0.539060      1.174395     -1.612246     1.579514\n",
      "3 -0.971075    1.167279  0.535518      1.040963     -1.255531     1.579514\n",
      "4 -0.841850    0.907407  0.554408      1.021902     -1.790604     1.579514\n"
     ]
    }
   ],
   "source": [
    "#2. Normalize or standardise the numerical features in the dataset.\n",
    "numerical_features = ['mpg', 'horsepower', 'weight', 'displacement', 'acceleration', 'vehicle_age']\n",
    "preprocessedData[numerical_features] = (preprocessedData[numerical_features] - preprocessedData[numerical_features].mean()) / preprocessedData[numerical_features].std()\n",
    "print(preprocessedData[numerical_features].head())"
   ]
  },
  {
   "cell_type": "code",
   "execution_count": 21,
   "id": "62c94782",
   "metadata": {},
   "outputs": [
    {
     "name": "stdout",
     "output_type": "stream",
     "text": [
      "0    chevrolet\n",
      "1        buick\n",
      "2     plymouth\n",
      "3          amc\n",
      "4         ford\n",
      "Name: make, dtype: object\n"
     ]
    }
   ],
   "source": [
    "preprocessedData[\"make\"]=preprocessedData['car_name'].str.split().str[0]\n",
    "print(preprocessedData[\"make\"].head())"
   ]
  },
  {
   "cell_type": "code",
   "execution_count": 22,
   "id": "2d913f4a",
   "metadata": {},
   "outputs": [
    {
     "name": "stdout",
     "output_type": "stream",
     "text": [
      "        make  make_label\n",
      "0  chevrolet           0\n",
      "1      buick           1\n",
      "2   plymouth           2\n",
      "3        amc           3\n",
      "4       ford           4\n"
     ]
    }
   ],
   "source": [
    "preprocessedData['make_label'] = pd.factorize(preprocessedData['make'])[0]\n",
    "print(preprocessedData[['make', 'make_label']].head())"
   ]
  },
  {
   "cell_type": "code",
   "execution_count": 23,
   "id": "4f9b08ea",
   "metadata": {},
   "outputs": [
    {
     "data": {
      "image/png": "[encoded data removed]",
      "text/plain": [
       "<Figure size 432x288 with 1 Axes>"
      ]
     },
     "metadata": {
      "needs_background": "light"
     },
     "output_type": "display_data"
    }
   ],
   "source": [
    "import seaborn as sns\n",
    "import matplotlib.pyplot as plt\n",
    "# Plot the histogram for MPG\n",
    "sns.histplot(preprocessedData['mpg'],color='orange')\n",
    "plt.title('Distribution of MPG')\n",
    "plt.xlabel('MPG')\n",
    "plt.ylabel('Frequency')\n",
    "plt.show()"
   ]
  },
  {
   "cell_type": "code",
   "execution_count": 24,
   "id": "8c4d6f4d",
   "metadata": {},
   "outputs": [
    {
     "data": {
      "image/png": "[encoded data removed]",
      "text/plain": [
       "<Figure size 432x288 with 1 Axes>"
      ]
     },
     "metadata": {
      "needs_background": "light"
     },
     "output_type": "display_data"
    }
   ],
   "source": [
    "make_counts = preprocessedData['make'].value_counts()\n",
    "top_10 = make_counts.head(10)\n",
    "# Create the bar plot\n",
    "sns.barplot(x=top_10.index, y=top_10.values)\n",
    "plt.title('Top 10 Most Frequent Makes')\n",
    "plt.xlabel('Make')\n",
    "plt.ylabel('Frequency')\n",
    "plt.xticks(rotation=90) \n",
    "plt.show()\n"
   ]
  },
  {
   "cell_type": "code",
   "execution_count": 25,
   "id": "250fcfd5",
   "metadata": {},
   "outputs": [
    {
     "data": {
      "image/png": "[encoded data removed]",
      "text/plain": [
       "<Figure size 432x288 with 1 Axes>"
      ]
     },
     "metadata": {
      "needs_background": "light"
     },
     "output_type": "display_data"
    }
   ],
   "source": [
    "top_10_makes = make_counts.head(10).index\n",
    "# Filter the dataset for these top 10 makes\n",
    "top_10_makes_data = preprocessedData[preprocessedData['make'].isin(top_10_makes)]\n",
    "# Create the box plot\n",
    "sns.boxplot(x='make', y='mpg', data=top_10_makes_data)\n",
    "plt.title('Box Plot of the MPG for Different Makes')\n",
    "plt.xlabel('Make')\n",
    "plt.ylabel('MPG')\n",
    "plt.xticks(rotation=90)\n",
    "plt.show()\n"
   ]
  },
  {
   "cell_type": "code",
   "execution_count": 26,
   "id": "7a82b18c",
   "metadata": {},
   "outputs": [
    {
     "data": {
      "image/png": "[encoded data removed]",
      "text/plain": [
       "<Figure size 432x288 with 4 Axes>"
      ]
     },
     "metadata": {
      "needs_background": "light"
     },
     "output_type": "display_data"
    }
   ],
   "source": [
    "# Scatter plot for horsepower vs MPG\n",
    "plt.subplot(2, 2, 1)  # (rows, columns, position)\n",
    "sns.scatterplot(x='horsepower', y='mpg', data=preprocessedData)\n",
    "plt.title('Horsepower vs MPG')\n",
    "plt.xlabel('Horsepower')\n",
    "plt.ylabel('MPG')\n",
    "\n",
    "# Scatter plot for weight vs MPG\n",
    "plt.subplot(2, 2, 2)\n",
    "sns.scatterplot(x='weight', y='mpg', data=preprocessedData)\n",
    "plt.title('Weight vs MPG')\n",
    "plt.xlabel('Weight')\n",
    "plt.ylabel('MPG')\n",
    "\n",
    "# Scatter plot for displacement vs MPG\n",
    "plt.subplot(2, 2, 3)\n",
    "sns.scatterplot(x='displacement', y='mpg', data=preprocessedData)\n",
    "plt.title('Displacement vs MPG')\n",
    "plt.xlabel('Displacement')\n",
    "plt.ylabel('MPG')\n",
    "\n",
    "# Scatter plot for acceleration vs MPG\n",
    "plt.subplot(2, 2, 4)\n",
    "sns.scatterplot(x='acceleration', y='mpg', data=preprocessedData)\n",
    "plt.title('Acceleration vs MPG')\n",
    "plt.xlabel('Acceleration')\n",
    "plt.ylabel('MPG')\n",
    "\n",
    "\n",
    "# Show the plots\n",
    "plt.tight_layout()\n",
    "plt.show()\n"
   ]
  },
  {
   "cell_type": "code",
   "execution_count": 27,
   "id": "f971a9df",
   "metadata": {},
   "outputs": [
    {
     "name": "stdout",
     "output_type": "stream",
     "text": [
      "Training set size: 284\n",
      "Validation set size: 61\n",
      "Test set size: 61\n"
     ]
    }
   ],
   "source": [
    "from sklearn.model_selection import train_test_split\n",
    "\n",
    "# Split the data into training and test sets (70% training, 15% validation, 15% testing)\n",
    "trainingdata, temp = train_test_split(preprocessedData, test_size=0.30, random_state=42)\n",
    "validationdata, testingdata = train_test_split(temp, test_size=0.50, random_state=42)\n",
    "print(\"Training set size:\",len(trainingdata))\n",
    "print(\"Validation set size:\",len(validationdata))\n",
    "print(\"Test set size:\",len(testingdata))"
   ]
  },
  {
   "cell_type": "code",
   "execution_count": 29,
   "id": "b84b84cb",
   "metadata": {},
   "outputs": [
    {
     "data": {
      "text/plain": [
       "LinearRegression()"
      ]
     },
     "execution_count": 29,
     "metadata": {},
     "output_type": "execute_result"
    }
   ],
   "source": [
    "from sklearn.linear_model import LinearRegression\n",
    "from sklearn.metrics import mean_squared_error, r2_score\n",
    "X_train= trainingdata.drop(['mpg', 'car_name','make'], axis=1)  \n",
    "Y_train = trainingdata['mpg'] \n",
    "model = LinearRegression()\n",
    "model.fit(X_train, Y_train)"
   ]
  },
  {
   "cell_type": "code",
   "execution_count": 30,
   "id": "b65b223b",
   "metadata": {},
   "outputs": [
    {
     "name": "stdout",
     "output_type": "stream",
     "text": [
      "Mean Squared Error of validation data is :  0.24014895795304173\n",
      "R-squared value of validation data is:  0.799069631883105\n"
     ]
    }
   ],
   "source": [
    "X_valid= validationdata.drop(['mpg', 'car_name','make'], axis=1) \n",
    "Y_valid= validationdata['mpg']\n",
    "y_predict_valid = model.predict(X_valid)\n",
    "mean_sq_err_valid = mean_squared_error(Y_valid, y_predict_valid)\n",
    "r_square_valid = r2_score(Y_valid, y_predict_valid)\n",
    "print(\"Mean Squared Error of validation data is : \",mean_sq_err_valid)\n",
    "print(\"R-squared value of validation data is: \",r_square_valid)"
   ]
  },
  {
   "cell_type": "code",
   "execution_count": 31,
   "id": "431ef009",
   "metadata": {},
   "outputs": [
    {
     "name": "stdout",
     "output_type": "stream",
     "text": [
      "Mean Squared Error of testing data is :  0.26673260736998733\n",
      "R-squared value of testing data is:  0.7505093281048625\n"
     ]
    }
   ],
   "source": [
    "X_test= testingdata.drop(['mpg', 'car_name','make'], axis=1) \n",
    "Y_test= testingdata['mpg']\n",
    "y_predict_test = model.predict(X_test)\n",
    "mean_sq_err_test = mean_squared_error(Y_test, y_predict_test)\n",
    "r_square_test = r2_score(Y_test, y_predict_test)\n",
    "print(\"Mean Squared Error of testing data is : \",mean_sq_err_test)\n",
    "print(\"R-squared value of testing data is: \",r_square_test)"
   ]
  },
  {
   "cell_type": "code",
   "execution_count": 32,
   "id": "afece43f",
   "metadata": {},
   "outputs": [],
   "source": [
    "from sklearn.linear_model import Ridge\n",
    "from sklearn.model_selection import GridSearchCV\n",
    "from sklearn.preprocessing import StandardScaler\n",
    "scaler = StandardScaler()\n",
    "X_train_scale=scaler.fit_transform(X_train)\n",
    "X_valid_scale=scaler.transform(X_valid)\n",
    "X_test_scale=scaler.transform(X_test)"
   ]
  },
  {
   "cell_type": "code",
   "execution_count": 34,
   "id": "a74fd9d8",
   "metadata": {},
   "outputs": [
    {
     "name": "stdout",
     "output_type": "stream",
     "text": [
      "Best alpha from GridSearchCV is :  1\n"
     ]
    }
   ],
   "source": [
    "ridge= Ridge()\n",
    "#hyperparameter\n",
    "param_grid = {'alpha': [0.1, 1, 10, 100, 1000]}\n",
    "#GridSearchCV to find the best alpha\n",
    "gridsearch = GridSearchCV(ridge, param_grid, scoring='neg_mean_squared_error', cv=5)\n",
    "gridsearch.fit(X_train_scale, Y_train)\n",
    "best_alpha = gridsearch.best_params_['alpha']\n",
    "print(\"Best alpha from GridSearchCV is : \",best_alpha)"
   ]
  },
  {
   "cell_type": "code",
   "execution_count": 35,
   "id": "56e36700",
   "metadata": {},
   "outputs": [
    {
     "name": "stdout",
     "output_type": "stream",
     "text": [
      "Ridge(alpha=1)\n"
     ]
    }
   ],
   "source": [
    "#Training model with best alpha\n",
    "best_alpha_model = gridsearch.best_estimator_\n",
    "print(best_alpha_model)"
   ]
  },
  {
   "cell_type": "code",
   "execution_count": 36,
   "id": "d1ef5f59",
   "metadata": {},
   "outputs": [
    {
     "name": "stdout",
     "output_type": "stream",
     "text": [
      "Mean Squared Error of validation data is :  0.2398511506689444\n",
      "R-squared value of validation data is:  0.7993188044288932\n"
     ]
    }
   ],
   "source": [
    "#Validation data prediction\n",
    "y_predict_valid_2 = best_alpha_model.predict(X_valid_scale)\n",
    "mean_sq_err_valid_2 = mean_squared_error(Y_valid, y_predict_valid_2)\n",
    "r_square_valid_2 = r2_score(Y_valid, y_predict_valid_2)\n",
    "print(\"Mean Squared Error of validation data is : \",mean_sq_err_valid_2)\n",
    "print(\"R-squared value of validation data is: \",r_square_valid_2)"
   ]
  },
  {
   "cell_type": "code",
   "execution_count": 39,
   "id": "975d1888",
   "metadata": {},
   "outputs": [
    {
     "name": "stdout",
     "output_type": "stream",
     "text": [
      "Mean Squared Error of testing data is :  0.26621921824832945\n",
      "R-squared value of testing data is:  0.7509895310997983\n"
     ]
    }
   ],
   "source": [
    "# Testing data prediction\n",
    "y_predict_test_2 = best_alpha_model.predict(X_test_scale)\n",
    "mean_sq_err_test_2 = mean_squared_error(Y_test, y_predict_test_2)\n",
    "r_square_test_2 = r2_score(Y_test, y_predict_test_2)\n",
    "print(\"Mean Squared Error of testing data is : \",mean_sq_err_test_2)\n",
    "print(\"R-squared value of testing data is: \",r_square_test_2)"
   ]
  },
  {
   "cell_type": "code",
   "execution_count": 40,
   "id": "62e83c49",
   "metadata": {},
   "outputs": [
    {
     "name": "stdout",
     "output_type": "stream",
     "text": [
      "Model Equation:\n",
      "MPG = 0.0479  + (-0.1143 * X1) + (0.2527 * X2) + (-0.1067 * X3) + (-0.6818 * X4) + (-0.0572 * X5) + (0.1524 * X6) + (0.1424 * X7) + (-0.1524 * X8) + (0.0337 * X9)\n"
     ]
    }
   ],
   "source": [
    "coefs = best_alpha_model.coef_\n",
    "intercept = best_alpha_model.intercept_\n",
    "equation = f\"MPG = {intercept:.4f} \"  # Start with intercept\n",
    "for i, coef in enumerate(coefs):\n",
    "    equation += f\" + ({coef:.4f} * X{i + 1})\"  # Add each feature term\n",
    "    \n",
    "print(\"Model Equation:\")\n",
    "print(equation)"
   ]
  },
  {
   "cell_type": "code",
   "execution_count": 41,
   "id": "2214ce84",
   "metadata": {},
   "outputs": [],
   "source": [
    "#Predict MPG function\n",
    "def predictMPG(model, scaler, input_data):\n",
    "    input_data_scaled = scaler.transform([input_data])\n",
    "    predicted_mpg = model.predict(input_data_scaled)\n",
    "    return predicted_mpg[0]"
   ]
  }
 ],
 "metadata": {
  "kernelspec": {
   "display_name": "Python 3 (ipykernel)",
   "language": "python",
   "name": "python3"
  },
  "language_info": {
   "codemirror_mode": {
    "name": "ipython",
    "version": 3
   },
   "file_extension": ".py",
   "mimetype": "text/x-python",
   "name": "python",
   "nbconvert_exporter": "python",
   "pygments_lexer": "ipython3",
   "version": "3.9.12"
  }
 },
 "nbformat": 4,
 "nbformat_minor": 5
}
